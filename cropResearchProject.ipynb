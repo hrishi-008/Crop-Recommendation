{
  "nbformat": 4,
  "nbformat_minor": 0,
  "metadata": {
    "colab": {
      "provenance": []
    },
    "kernelspec": {
      "name": "python3",
      "display_name": "Python 3"
    }
  },
  "cells": [
    {
      "cell_type": "markdown",
      "metadata": {
        "id": "lP6JLo1tGNBg"
      },
      "source": [
        "# Artificial Neural Network"
      ]
    },
    {
      "cell_type": "markdown",
      "metadata": {
        "id": "gWZyYmS_UE_L"
      },
      "source": [
        "### Importing the libraries"
      ]
    },
    {
      "cell_type": "code",
      "source": [
        "import numpy as np\n",
        "import pandas as pd\n",
        "import tensorflow as tf"
      ],
      "metadata": {
        "id": "L4-AYHGrjyEf"
      },
      "execution_count": null,
      "outputs": []
    },
    {
      "cell_type": "markdown",
      "metadata": {
        "id": "1E0Q3aoKUCRX"
      },
      "source": [
        "## Part 1 - Data Preprocessing"
      ]
    },
    {
      "cell_type": "markdown",
      "metadata": {
        "id": "cKWAkFVGUU0Z"
      },
      "source": [
        "### Importing the dataset"
      ]
    },
    {
      "cell_type": "code",
      "source": [
        "dataset = pd.read_csv('Crop_recommendation.csv')\n",
        "x = dataset.iloc[:, 0:-1].values\n",
        "y_main = dataset.iloc[:, -1].values"
      ],
      "metadata": {
        "id": "sd_MSSMHluz5"
      },
      "execution_count": null,
      "outputs": []
    },
    {
      "cell_type": "code",
      "source": [
        "dataset.head"
      ],
      "metadata": {
        "colab": {
          "base_uri": "https://localhost:8080/"
        },
        "id": "2UNOd3ZfmJz_",
        "outputId": "aaa5d19d-e88a-40f8-b39a-991049ecffd2"
      },
      "execution_count": null,
      "outputs": [
        {
          "output_type": "execute_result",
          "data": {
            "text/plain": [
              "<bound method NDFrame.head of         N   P   K  temperature   humidity        ph    rainfall   label\n",
              "0      90  42  43    20.879744  82.002744  6.502985  202.935536    rice\n",
              "1      85  58  41    21.770462  80.319644  7.038096  226.655537    rice\n",
              "2      60  55  44    23.004459  82.320763  7.840207  263.964248    rice\n",
              "3      74  35  40    26.491096  80.158363  6.980401  242.864034    rice\n",
              "4      78  42  42    20.130175  81.604873  7.628473  262.717340    rice\n",
              "...   ...  ..  ..          ...        ...       ...         ...     ...\n",
              "2195  107  34  32    26.774637  66.413269  6.780064  177.774507  coffee\n",
              "2196   99  15  27    27.417112  56.636362  6.086922  127.924610  coffee\n",
              "2197  118  33  30    24.131797  67.225123  6.362608  173.322839  coffee\n",
              "2198  117  32  34    26.272418  52.127394  6.758793  127.175293  coffee\n",
              "2199  104  18  30    23.603016  60.396475  6.779833  140.937041  coffee\n",
              "\n",
              "[2200 rows x 8 columns]>"
            ]
          },
          "metadata": {},
          "execution_count": 3
        }
      ]
    },
    {
      "cell_type": "markdown",
      "metadata": {
        "id": "N6bQ0UgSU-NJ"
      },
      "source": [
        "### Encoding categorical data"
      ]
    },
    {
      "cell_type": "markdown",
      "metadata": {
        "id": "CUxGZezpbMcb"
      },
      "source": [
        "One Hot Encoding the \"label\" column"
      ]
    },
    {
      "cell_type": "code",
      "source": [
        "y = np.array([y_main])\n",
        "y = y.reshape(-1, 1)"
      ],
      "metadata": {
        "id": "8RCf8GHALB6H"
      },
      "execution_count": null,
      "outputs": []
    },
    {
      "cell_type": "code",
      "source": [
        "y.shape"
      ],
      "metadata": {
        "colab": {
          "base_uri": "https://localhost:8080/"
        },
        "id": "05LHj765-Zep",
        "outputId": "1fb86e3d-3c9e-45c8-a4be-bfb970f0e423"
      },
      "execution_count": null,
      "outputs": [
        {
          "output_type": "execute_result",
          "data": {
            "text/plain": [
              "(2200, 1)"
            ]
          },
          "metadata": {},
          "execution_count": 5
        }
      ]
    },
    {
      "cell_type": "code",
      "source": [
        "from sklearn.compose import ColumnTransformer\n",
        "from sklearn.preprocessing import OneHotEncoder\n",
        "ct = ColumnTransformer(transformers=[('encoder', OneHotEncoder(sparse = False), [-1])], remainder='passthrough')\n",
        "y = ct.fit_transform(y)"
      ],
      "metadata": {
        "id": "RPqKWe-8npKO",
        "colab": {
          "base_uri": "https://localhost:8080/"
        },
        "outputId": "72647669-691b-49a7-f363-22202281f893"
      },
      "execution_count": null,
      "outputs": [
        {
          "output_type": "stream",
          "name": "stderr",
          "text": [
            "/usr/local/lib/python3.10/dist-packages/sklearn/preprocessing/_encoders.py:868: FutureWarning: `sparse` was renamed to `sparse_output` in version 1.2 and will be removed in 1.4. `sparse_output` is ignored unless you leave `sparse` to its default value.\n",
            "  warnings.warn(\n"
          ]
        }
      ]
    },
    {
      "cell_type": "code",
      "source": [
        "y.shape"
      ],
      "metadata": {
        "colab": {
          "base_uri": "https://localhost:8080/"
        },
        "id": "3CkVBZyKK1sl",
        "outputId": "2fdc1941-9f04-48a3-a1b5-1c5caf6d09a7"
      },
      "execution_count": null,
      "outputs": [
        {
          "output_type": "execute_result",
          "data": {
            "text/plain": [
              "(2200, 22)"
            ]
          },
          "metadata": {},
          "execution_count": 7
        }
      ]
    },
    {
      "cell_type": "code",
      "source": [
        "x.shape"
      ],
      "metadata": {
        "colab": {
          "base_uri": "https://localhost:8080/"
        },
        "id": "r5xCjC1nrImP",
        "outputId": "4bf6670d-a3b1-4b08-9c1e-fb74bb02eff7"
      },
      "execution_count": null,
      "outputs": [
        {
          "output_type": "execute_result",
          "data": {
            "text/plain": [
              "(2200, 7)"
            ]
          },
          "metadata": {},
          "execution_count": 8
        }
      ]
    },
    {
      "cell_type": "markdown",
      "metadata": {
        "id": "vHol938cW8zd"
      },
      "source": [
        "### Splitting the dataset into the Training set and Test set"
      ]
    },
    {
      "cell_type": "code",
      "source": [
        "from sklearn.model_selection import train_test_split\n",
        "x_train, x_test, y_train, y_test = train_test_split(x, y, test_size=0.2, random_state=1)"
      ],
      "metadata": {
        "id": "zQtk5a1cn2Oo"
      },
      "execution_count": null,
      "outputs": []
    },
    {
      "cell_type": "markdown",
      "metadata": {
        "id": "RE_FcHyfV3TQ"
      },
      "source": [
        "### Feature Scaling"
      ]
    },
    {
      "cell_type": "code",
      "source": [
        "from sklearn.preprocessing import StandardScaler\n",
        "sc = StandardScaler()\n",
        "x_train = sc.fit_transform(x_train)\n",
        "x_test = sc.transform(x_test)\n",
        "\n",
        "# Feature scaling is very imp in DL (and ofc NN!!)"
      ],
      "metadata": {
        "id": "jtzD6EMsn-R3"
      },
      "execution_count": null,
      "outputs": []
    },
    {
      "cell_type": "markdown",
      "metadata": {
        "id": "-zfEzkRVXIwF"
      },
      "source": [
        "## Part 2 - Building the ANN"
      ]
    },
    {
      "cell_type": "markdown",
      "metadata": {
        "id": "KvdeScabXtlB"
      },
      "source": [
        "### Initializing the ANN"
      ]
    },
    {
      "cell_type": "code",
      "source": [
        "ann = tf.keras.models.Sequential()"
      ],
      "metadata": {
        "id": "S2QdfBBFriV6"
      },
      "execution_count": null,
      "outputs": []
    },
    {
      "cell_type": "markdown",
      "metadata": {
        "id": "rP6urV6SX7kS"
      },
      "source": [
        "### Adding the input layer and the first hidden layer"
      ]
    },
    {
      "cell_type": "code",
      "source": [
        "ann.add(tf.keras.layers.Dense(units= 22, activation='relu'))"
      ],
      "metadata": {
        "id": "tD6kQP1Vr8qt"
      },
      "execution_count": null,
      "outputs": []
    },
    {
      "cell_type": "markdown",
      "metadata": {
        "id": "BELWAc_8YJze"
      },
      "source": [
        "### Adding the second hidden layer"
      ]
    },
    {
      "cell_type": "code",
      "source": [
        "ann.add(tf.keras.layers.Dense(units= 22, activation='relu'))"
      ],
      "metadata": {
        "id": "Jli5SYvYsjra"
      },
      "execution_count": null,
      "outputs": []
    },
    {
      "cell_type": "markdown",
      "metadata": {
        "id": "OyNEe6RXYcU4"
      },
      "source": [
        "### Adding the output layer"
      ]
    },
    {
      "cell_type": "code",
      "source": [
        "ann.add(tf.keras.layers.Dense(units= 22, activation='softmax'))"
      ],
      "metadata": {
        "id": "UMuh78ZTsqfI"
      },
      "execution_count": null,
      "outputs": []
    },
    {
      "cell_type": "markdown",
      "metadata": {
        "id": "JT4u2S1_Y4WG"
      },
      "source": [
        "## Part 3 - Training the ANN"
      ]
    },
    {
      "cell_type": "markdown",
      "metadata": {
        "id": "8GWlJChhY_ZI"
      },
      "source": [
        "### Compiling the ANN"
      ]
    },
    {
      "cell_type": "code",
      "source": [
        "ann.compile(optimizer = 'adam', loss = 'categorical_crossentropy', metrics = ['accuracy'] )\n",
        "# for non binary, loss = 'categorical_crossentropy',  acivation = 'softmax'"
      ],
      "metadata": {
        "id": "dzMEYv8FtszU"
      },
      "execution_count": null,
      "outputs": []
    },
    {
      "cell_type": "markdown",
      "source": [
        "ann.compile(optimizer = 'adam', loss = 'binary_crossentropy', metrics = ['accuracy'])"
      ],
      "metadata": {
        "id": "fG3RrwDXZEaS"
      }
    },
    {
      "cell_type": "markdown",
      "metadata": {
        "id": "0QR_G5u7ZLSM"
      },
      "source": [
        "### Training the ANN on the Training set"
      ]
    },
    {
      "cell_type": "code",
      "source": [
        "ann.fit(x_train, y_train, batch_size= 32, epochs=150)"
      ],
      "metadata": {
        "id": "eZUyPoVDu3bG",
        "colab": {
          "base_uri": "https://localhost:8080/"
        },
        "outputId": "7b28b583-cb27-4857-ae68-852ea9aee1cd"
      },
      "execution_count": null,
      "outputs": [
        {
          "output_type": "stream",
          "name": "stdout",
          "text": [
            "Epoch 1/150\n",
            "55/55 [==============================] - 0s 2ms/step - loss: 0.2276 - accuracy: 0.9597\n",
            "Epoch 2/150\n",
            "55/55 [==============================] - 0s 2ms/step - loss: 0.2081 - accuracy: 0.9619\n",
            "Epoch 3/150\n",
            "55/55 [==============================] - 0s 2ms/step - loss: 0.1890 - accuracy: 0.9659\n",
            "Epoch 4/150\n",
            "55/55 [==============================] - 0s 2ms/step - loss: 0.1759 - accuracy: 0.9631\n",
            "Epoch 5/150\n",
            "55/55 [==============================] - 0s 3ms/step - loss: 0.1628 - accuracy: 0.9705\n",
            "Epoch 6/150\n",
            "55/55 [==============================] - 0s 2ms/step - loss: 0.1509 - accuracy: 0.9682\n",
            "Epoch 7/150\n",
            "55/55 [==============================] - 0s 2ms/step - loss: 0.1427 - accuracy: 0.9676\n",
            "Epoch 8/150\n",
            "55/55 [==============================] - 0s 2ms/step - loss: 0.1326 - accuracy: 0.9727\n",
            "Epoch 9/150\n",
            "55/55 [==============================] - 0s 3ms/step - loss: 0.1263 - accuracy: 0.9733\n",
            "Epoch 10/150\n",
            "55/55 [==============================] - 0s 2ms/step - loss: 0.1200 - accuracy: 0.9722\n",
            "Epoch 11/150\n",
            "55/55 [==============================] - 0s 2ms/step - loss: 0.1130 - accuracy: 0.9761\n",
            "Epoch 12/150\n",
            "55/55 [==============================] - 0s 2ms/step - loss: 0.1082 - accuracy: 0.9761\n",
            "Epoch 13/150\n",
            "55/55 [==============================] - 0s 3ms/step - loss: 0.1036 - accuracy: 0.9773\n",
            "Epoch 14/150\n",
            "55/55 [==============================] - 0s 2ms/step - loss: 0.0992 - accuracy: 0.9761\n",
            "Epoch 15/150\n",
            "55/55 [==============================] - 0s 2ms/step - loss: 0.0946 - accuracy: 0.9778\n",
            "Epoch 16/150\n",
            "55/55 [==============================] - 0s 2ms/step - loss: 0.0907 - accuracy: 0.9812\n",
            "Epoch 17/150\n",
            "55/55 [==============================] - 0s 2ms/step - loss: 0.0884 - accuracy: 0.9778\n",
            "Epoch 18/150\n",
            "55/55 [==============================] - 0s 2ms/step - loss: 0.0848 - accuracy: 0.9767\n",
            "Epoch 19/150\n",
            "55/55 [==============================] - 0s 2ms/step - loss: 0.0823 - accuracy: 0.9795\n",
            "Epoch 20/150\n",
            "55/55 [==============================] - 0s 2ms/step - loss: 0.0780 - accuracy: 0.9807\n",
            "Epoch 21/150\n",
            "55/55 [==============================] - 0s 2ms/step - loss: 0.0746 - accuracy: 0.9818\n",
            "Epoch 22/150\n",
            "55/55 [==============================] - 0s 2ms/step - loss: 0.0742 - accuracy: 0.9818\n",
            "Epoch 23/150\n",
            "55/55 [==============================] - 0s 2ms/step - loss: 0.0722 - accuracy: 0.9812\n",
            "Epoch 24/150\n",
            "55/55 [==============================] - 0s 2ms/step - loss: 0.0692 - accuracy: 0.9824\n",
            "Epoch 25/150\n",
            "55/55 [==============================] - 0s 2ms/step - loss: 0.0679 - accuracy: 0.9818\n",
            "Epoch 26/150\n",
            "55/55 [==============================] - 0s 2ms/step - loss: 0.0664 - accuracy: 0.9824\n",
            "Epoch 27/150\n",
            "55/55 [==============================] - 0s 2ms/step - loss: 0.0638 - accuracy: 0.9835\n",
            "Epoch 28/150\n",
            "55/55 [==============================] - 0s 2ms/step - loss: 0.0645 - accuracy: 0.9818\n",
            "Epoch 29/150\n",
            "55/55 [==============================] - 0s 2ms/step - loss: 0.0597 - accuracy: 0.9847\n",
            "Epoch 30/150\n",
            "55/55 [==============================] - 0s 2ms/step - loss: 0.0595 - accuracy: 0.9858\n",
            "Epoch 31/150\n",
            "55/55 [==============================] - 0s 2ms/step - loss: 0.0566 - accuracy: 0.9835\n",
            "Epoch 32/150\n",
            "55/55 [==============================] - 0s 2ms/step - loss: 0.0574 - accuracy: 0.9824\n",
            "Epoch 33/150\n",
            "55/55 [==============================] - 0s 2ms/step - loss: 0.0534 - accuracy: 0.9847\n",
            "Epoch 34/150\n",
            "55/55 [==============================] - 0s 2ms/step - loss: 0.0529 - accuracy: 0.9875\n",
            "Epoch 35/150\n",
            "55/55 [==============================] - 0s 2ms/step - loss: 0.0525 - accuracy: 0.9847\n",
            "Epoch 36/150\n",
            "55/55 [==============================] - 0s 2ms/step - loss: 0.0498 - accuracy: 0.9858\n",
            "Epoch 37/150\n",
            "55/55 [==============================] - 0s 2ms/step - loss: 0.0490 - accuracy: 0.9852\n",
            "Epoch 38/150\n",
            "55/55 [==============================] - 0s 2ms/step - loss: 0.0487 - accuracy: 0.9864\n",
            "Epoch 39/150\n",
            "55/55 [==============================] - 0s 2ms/step - loss: 0.0474 - accuracy: 0.9858\n",
            "Epoch 40/150\n",
            "55/55 [==============================] - 0s 2ms/step - loss: 0.0468 - accuracy: 0.9881\n",
            "Epoch 41/150\n",
            "55/55 [==============================] - 0s 2ms/step - loss: 0.0459 - accuracy: 0.9869\n",
            "Epoch 42/150\n",
            "55/55 [==============================] - 0s 2ms/step - loss: 0.0443 - accuracy: 0.9875\n",
            "Epoch 43/150\n",
            "55/55 [==============================] - 0s 2ms/step - loss: 0.0443 - accuracy: 0.9858\n",
            "Epoch 44/150\n",
            "55/55 [==============================] - 0s 2ms/step - loss: 0.0435 - accuracy: 0.9858\n",
            "Epoch 45/150\n",
            "55/55 [==============================] - 0s 2ms/step - loss: 0.0411 - accuracy: 0.9886\n",
            "Epoch 46/150\n",
            "55/55 [==============================] - 0s 3ms/step - loss: 0.0420 - accuracy: 0.9892\n",
            "Epoch 47/150\n",
            "55/55 [==============================] - 0s 2ms/step - loss: 0.0410 - accuracy: 0.9881\n",
            "Epoch 48/150\n",
            "55/55 [==============================] - 0s 2ms/step - loss: 0.0380 - accuracy: 0.9909\n",
            "Epoch 49/150\n",
            "55/55 [==============================] - 0s 2ms/step - loss: 0.0386 - accuracy: 0.9881\n",
            "Epoch 50/150\n",
            "55/55 [==============================] - 0s 2ms/step - loss: 0.0383 - accuracy: 0.9898\n",
            "Epoch 51/150\n",
            "55/55 [==============================] - 0s 2ms/step - loss: 0.0374 - accuracy: 0.9886\n",
            "Epoch 52/150\n",
            "55/55 [==============================] - 0s 2ms/step - loss: 0.0356 - accuracy: 0.9909\n",
            "Epoch 53/150\n",
            "55/55 [==============================] - 0s 3ms/step - loss: 0.0364 - accuracy: 0.9886\n",
            "Epoch 54/150\n",
            "55/55 [==============================] - 0s 2ms/step - loss: 0.0349 - accuracy: 0.9892\n",
            "Epoch 55/150\n",
            "55/55 [==============================] - 0s 2ms/step - loss: 0.0344 - accuracy: 0.9886\n",
            "Epoch 56/150\n",
            "55/55 [==============================] - 0s 3ms/step - loss: 0.0340 - accuracy: 0.9898\n",
            "Epoch 57/150\n",
            "55/55 [==============================] - 0s 2ms/step - loss: 0.0328 - accuracy: 0.9909\n",
            "Epoch 58/150\n",
            "55/55 [==============================] - 0s 2ms/step - loss: 0.0330 - accuracy: 0.9898\n",
            "Epoch 59/150\n",
            "55/55 [==============================] - 0s 2ms/step - loss: 0.0344 - accuracy: 0.9903\n",
            "Epoch 60/150\n",
            "55/55 [==============================] - 0s 2ms/step - loss: 0.0317 - accuracy: 0.9920\n",
            "Epoch 61/150\n",
            "55/55 [==============================] - 0s 3ms/step - loss: 0.0309 - accuracy: 0.9909\n",
            "Epoch 62/150\n",
            "55/55 [==============================] - 0s 2ms/step - loss: 0.0304 - accuracy: 0.9909\n",
            "Epoch 63/150\n",
            "55/55 [==============================] - 0s 2ms/step - loss: 0.0310 - accuracy: 0.9892\n",
            "Epoch 64/150\n",
            "55/55 [==============================] - 0s 2ms/step - loss: 0.0296 - accuracy: 0.9898\n",
            "Epoch 65/150\n",
            "55/55 [==============================] - 0s 2ms/step - loss: 0.0303 - accuracy: 0.9903\n",
            "Epoch 66/150\n",
            "55/55 [==============================] - 0s 2ms/step - loss: 0.0288 - accuracy: 0.9915\n",
            "Epoch 67/150\n",
            "55/55 [==============================] - 0s 3ms/step - loss: 0.0281 - accuracy: 0.9932\n",
            "Epoch 68/150\n",
            "55/55 [==============================] - 0s 4ms/step - loss: 0.0285 - accuracy: 0.9932\n",
            "Epoch 69/150\n",
            "55/55 [==============================] - 0s 3ms/step - loss: 0.0280 - accuracy: 0.9909\n",
            "Epoch 70/150\n",
            "55/55 [==============================] - 0s 3ms/step - loss: 0.0268 - accuracy: 0.9926\n",
            "Epoch 71/150\n",
            "55/55 [==============================] - 0s 3ms/step - loss: 0.0272 - accuracy: 0.9903\n",
            "Epoch 72/150\n",
            "55/55 [==============================] - 0s 3ms/step - loss: 0.0266 - accuracy: 0.9898\n",
            "Epoch 73/150\n",
            "55/55 [==============================] - 0s 3ms/step - loss: 0.0266 - accuracy: 0.9920\n",
            "Epoch 74/150\n",
            "55/55 [==============================] - 0s 4ms/step - loss: 0.0260 - accuracy: 0.9909\n",
            "Epoch 75/150\n",
            "55/55 [==============================] - 0s 3ms/step - loss: 0.0271 - accuracy: 0.9915\n",
            "Epoch 76/150\n",
            "55/55 [==============================] - 0s 3ms/step - loss: 0.0253 - accuracy: 0.9937\n",
            "Epoch 77/150\n",
            "55/55 [==============================] - 0s 4ms/step - loss: 0.0250 - accuracy: 0.9915\n",
            "Epoch 78/150\n",
            "55/55 [==============================] - 0s 4ms/step - loss: 0.0247 - accuracy: 0.9932\n",
            "Epoch 79/150\n",
            "55/55 [==============================] - 0s 4ms/step - loss: 0.0244 - accuracy: 0.9909\n",
            "Epoch 80/150\n",
            "55/55 [==============================] - 0s 4ms/step - loss: 0.0251 - accuracy: 0.9903\n",
            "Epoch 81/150\n",
            "55/55 [==============================] - 0s 2ms/step - loss: 0.0240 - accuracy: 0.9926\n",
            "Epoch 82/150\n",
            "55/55 [==============================] - 0s 2ms/step - loss: 0.0234 - accuracy: 0.9932\n",
            "Epoch 83/150\n",
            "55/55 [==============================] - 0s 2ms/step - loss: 0.0235 - accuracy: 0.9949\n",
            "Epoch 84/150\n",
            "55/55 [==============================] - 0s 2ms/step - loss: 0.0242 - accuracy: 0.9920\n",
            "Epoch 85/150\n",
            "55/55 [==============================] - 0s 2ms/step - loss: 0.0232 - accuracy: 0.9949\n",
            "Epoch 86/150\n",
            "55/55 [==============================] - 0s 2ms/step - loss: 0.0237 - accuracy: 0.9920\n",
            "Epoch 87/150\n",
            "55/55 [==============================] - 0s 2ms/step - loss: 0.0230 - accuracy: 0.9926\n",
            "Epoch 88/150\n",
            "55/55 [==============================] - 0s 2ms/step - loss: 0.0227 - accuracy: 0.9932\n",
            "Epoch 89/150\n",
            "55/55 [==============================] - 0s 2ms/step - loss: 0.0220 - accuracy: 0.9937\n",
            "Epoch 90/150\n",
            "55/55 [==============================] - 0s 2ms/step - loss: 0.0231 - accuracy: 0.9932\n",
            "Epoch 91/150\n",
            "55/55 [==============================] - 0s 2ms/step - loss: 0.0219 - accuracy: 0.9932\n",
            "Epoch 92/150\n",
            "55/55 [==============================] - 0s 2ms/step - loss: 0.0208 - accuracy: 0.9937\n",
            "Epoch 93/150\n",
            "55/55 [==============================] - 0s 2ms/step - loss: 0.0218 - accuracy: 0.9943\n",
            "Epoch 94/150\n",
            "55/55 [==============================] - 0s 2ms/step - loss: 0.0210 - accuracy: 0.9920\n",
            "Epoch 95/150\n",
            "55/55 [==============================] - 0s 2ms/step - loss: 0.0203 - accuracy: 0.9949\n",
            "Epoch 96/150\n",
            "55/55 [==============================] - 0s 2ms/step - loss: 0.0201 - accuracy: 0.9943\n",
            "Epoch 97/150\n",
            "55/55 [==============================] - 0s 2ms/step - loss: 0.0216 - accuracy: 0.9915\n",
            "Epoch 98/150\n",
            "55/55 [==============================] - 0s 2ms/step - loss: 0.0202 - accuracy: 0.9937\n",
            "Epoch 99/150\n",
            "55/55 [==============================] - 0s 2ms/step - loss: 0.0201 - accuracy: 0.9943\n",
            "Epoch 100/150\n",
            "55/55 [==============================] - 0s 2ms/step - loss: 0.0221 - accuracy: 0.9926\n",
            "Epoch 101/150\n",
            "55/55 [==============================] - 0s 2ms/step - loss: 0.0209 - accuracy: 0.9949\n",
            "Epoch 102/150\n",
            "55/55 [==============================] - 0s 2ms/step - loss: 0.0196 - accuracy: 0.9937\n",
            "Epoch 103/150\n",
            "55/55 [==============================] - 0s 3ms/step - loss: 0.0198 - accuracy: 0.9926\n",
            "Epoch 104/150\n",
            "55/55 [==============================] - 0s 2ms/step - loss: 0.0195 - accuracy: 0.9932\n",
            "Epoch 105/150\n",
            "55/55 [==============================] - 0s 2ms/step - loss: 0.0186 - accuracy: 0.9949\n",
            "Epoch 106/150\n",
            "55/55 [==============================] - 0s 2ms/step - loss: 0.0190 - accuracy: 0.9932\n",
            "Epoch 107/150\n",
            "55/55 [==============================] - 0s 3ms/step - loss: 0.0223 - accuracy: 0.9898\n",
            "Epoch 108/150\n",
            "55/55 [==============================] - 0s 2ms/step - loss: 0.0191 - accuracy: 0.9932\n",
            "Epoch 109/150\n",
            "55/55 [==============================] - 0s 2ms/step - loss: 0.0182 - accuracy: 0.9943\n",
            "Epoch 110/150\n",
            "55/55 [==============================] - 0s 2ms/step - loss: 0.0186 - accuracy: 0.9949\n",
            "Epoch 111/150\n",
            "55/55 [==============================] - 0s 2ms/step - loss: 0.0185 - accuracy: 0.9943\n",
            "Epoch 112/150\n",
            "55/55 [==============================] - 0s 2ms/step - loss: 0.0180 - accuracy: 0.9926\n",
            "Epoch 113/150\n",
            "55/55 [==============================] - 0s 2ms/step - loss: 0.0183 - accuracy: 0.9932\n",
            "Epoch 114/150\n",
            "55/55 [==============================] - 0s 2ms/step - loss: 0.0176 - accuracy: 0.9943\n",
            "Epoch 115/150\n",
            "55/55 [==============================] - 0s 2ms/step - loss: 0.0184 - accuracy: 0.9932\n",
            "Epoch 116/150\n",
            "55/55 [==============================] - 0s 2ms/step - loss: 0.0173 - accuracy: 0.9949\n",
            "Epoch 117/150\n",
            "55/55 [==============================] - 0s 2ms/step - loss: 0.0175 - accuracy: 0.9937\n",
            "Epoch 118/150\n",
            "55/55 [==============================] - 0s 2ms/step - loss: 0.0183 - accuracy: 0.9943\n",
            "Epoch 119/150\n",
            "55/55 [==============================] - 0s 2ms/step - loss: 0.0187 - accuracy: 0.9937\n",
            "Epoch 120/150\n",
            "55/55 [==============================] - 0s 2ms/step - loss: 0.0182 - accuracy: 0.9937\n",
            "Epoch 121/150\n",
            "55/55 [==============================] - 0s 2ms/step - loss: 0.0164 - accuracy: 0.9960\n",
            "Epoch 122/150\n",
            "55/55 [==============================] - 0s 2ms/step - loss: 0.0165 - accuracy: 0.9937\n",
            "Epoch 123/150\n",
            "55/55 [==============================] - 0s 2ms/step - loss: 0.0176 - accuracy: 0.9937\n",
            "Epoch 124/150\n",
            "55/55 [==============================] - 0s 2ms/step - loss: 0.0163 - accuracy: 0.9937\n",
            "Epoch 125/150\n",
            "55/55 [==============================] - 0s 2ms/step - loss: 0.0163 - accuracy: 0.9937\n",
            "Epoch 126/150\n",
            "55/55 [==============================] - 0s 2ms/step - loss: 0.0187 - accuracy: 0.9926\n",
            "Epoch 127/150\n",
            "55/55 [==============================] - 0s 2ms/step - loss: 0.0165 - accuracy: 0.9949\n",
            "Epoch 128/150\n",
            "55/55 [==============================] - 0s 2ms/step - loss: 0.0166 - accuracy: 0.9932\n",
            "Epoch 129/150\n",
            "55/55 [==============================] - 0s 2ms/step - loss: 0.0165 - accuracy: 0.9937\n",
            "Epoch 130/150\n",
            "55/55 [==============================] - 0s 2ms/step - loss: 0.0155 - accuracy: 0.9966\n",
            "Epoch 131/150\n",
            "55/55 [==============================] - 0s 2ms/step - loss: 0.0177 - accuracy: 0.9937\n",
            "Epoch 132/150\n",
            "55/55 [==============================] - 0s 2ms/step - loss: 0.0158 - accuracy: 0.9949\n",
            "Epoch 133/150\n",
            "55/55 [==============================] - 0s 2ms/step - loss: 0.0153 - accuracy: 0.9937\n",
            "Epoch 134/150\n",
            "55/55 [==============================] - 0s 2ms/step - loss: 0.0154 - accuracy: 0.9949\n",
            "Epoch 135/150\n",
            "55/55 [==============================] - 0s 2ms/step - loss: 0.0175 - accuracy: 0.9937\n",
            "Epoch 136/150\n",
            "55/55 [==============================] - 0s 2ms/step - loss: 0.0154 - accuracy: 0.9960\n",
            "Epoch 137/150\n",
            "55/55 [==============================] - 0s 2ms/step - loss: 0.0148 - accuracy: 0.9966\n",
            "Epoch 138/150\n",
            "55/55 [==============================] - 0s 2ms/step - loss: 0.0166 - accuracy: 0.9949\n",
            "Epoch 139/150\n",
            "55/55 [==============================] - 0s 2ms/step - loss: 0.0157 - accuracy: 0.9937\n",
            "Epoch 140/150\n",
            "55/55 [==============================] - 0s 2ms/step - loss: 0.0143 - accuracy: 0.9955\n",
            "Epoch 141/150\n",
            "55/55 [==============================] - 0s 2ms/step - loss: 0.0151 - accuracy: 0.9943\n",
            "Epoch 142/150\n",
            "55/55 [==============================] - 0s 2ms/step - loss: 0.0152 - accuracy: 0.9937\n",
            "Epoch 143/150\n",
            "55/55 [==============================] - 0s 2ms/step - loss: 0.0150 - accuracy: 0.9955\n",
            "Epoch 144/150\n",
            "55/55 [==============================] - 0s 2ms/step - loss: 0.0156 - accuracy: 0.9932\n",
            "Epoch 145/150\n",
            "55/55 [==============================] - 0s 2ms/step - loss: 0.0172 - accuracy: 0.9920\n",
            "Epoch 146/150\n",
            "55/55 [==============================] - 0s 2ms/step - loss: 0.0147 - accuracy: 0.9937\n",
            "Epoch 147/150\n",
            "55/55 [==============================] - 0s 2ms/step - loss: 0.0149 - accuracy: 0.9943\n",
            "Epoch 148/150\n",
            "55/55 [==============================] - 0s 2ms/step - loss: 0.0144 - accuracy: 0.9955\n",
            "Epoch 149/150\n",
            "55/55 [==============================] - 0s 2ms/step - loss: 0.0148 - accuracy: 0.9943\n",
            "Epoch 150/150\n",
            "55/55 [==============================] - 0s 2ms/step - loss: 0.0139 - accuracy: 0.9955\n"
          ]
        },
        {
          "output_type": "execute_result",
          "data": {
            "text/plain": [
              "<keras.src.callbacks.History at 0x790daff551e0>"
            ]
          },
          "metadata": {},
          "execution_count": 17
        }
      ]
    },
    {
      "cell_type": "markdown",
      "metadata": {
        "id": "tJj5k2MxZga3"
      },
      "source": [
        "## Part 4 - Making the predictions and evaluating the model"
      ]
    },
    {
      "cell_type": "markdown",
      "metadata": {
        "id": "u7yx47jPZt11"
      },
      "source": [
        "### Predicting the Test set results"
      ]
    },
    {
      "cell_type": "code",
      "source": [
        "y_pred = ann.predict(x_test)"
      ],
      "metadata": {
        "id": "hT0i3B_31I-Z",
        "colab": {
          "base_uri": "https://localhost:8080/"
        },
        "outputId": "2ea8e7a6-9b1d-4cd8-bdbf-35f05b859898"
      },
      "execution_count": null,
      "outputs": [
        {
          "output_type": "stream",
          "name": "stdout",
          "text": [
            "14/14 [==============================] - 0s 2ms/step\n"
          ]
        }
      ]
    },
    {
      "cell_type": "code",
      "source": [
        "print(\"y_pred shape:\", y_pred.shape)\n",
        "print(\"y_test shape:\", y_test.shape)\n"
      ],
      "metadata": {
        "colab": {
          "base_uri": "https://localhost:8080/"
        },
        "id": "IZbLKRaGAotd",
        "outputId": "4573bc31-3cb5-4d27-90b1-c03b62f3fd9d"
      },
      "execution_count": null,
      "outputs": [
        {
          "output_type": "stream",
          "name": "stdout",
          "text": [
            "y_pred shape: (440, 22)\n",
            "y_test shape: (440, 22)\n"
          ]
        }
      ]
    },
    {
      "cell_type": "markdown",
      "metadata": {
        "id": "o0oyfLWoaEGw"
      },
      "source": [
        "### Making the Confusion Matrix"
      ]
    },
    {
      "cell_type": "code",
      "source": [
        "from sklearn.metrics import accuracy_score\n",
        "\n",
        "y_pred_classes = np.argmax(y_pred, axis=1)\n",
        "\n",
        "y_test_classes = np.argmax(y_test, axis=1)\n",
        "\n",
        "accuracy = accuracy_score(y_test_classes, y_pred_classes)\n",
        "\n",
        "print(\"Accuracy:\", accuracy)"
      ],
      "metadata": {
        "id": "9tCIp22e1JaK",
        "colab": {
          "base_uri": "https://localhost:8080/"
        },
        "outputId": "3210923c-833f-4e0c-a28f-ee77df212cf5"
      },
      "execution_count": null,
      "outputs": [
        {
          "output_type": "stream",
          "name": "stdout",
          "text": [
            "Accuracy: 0.9818181818181818\n"
          ]
        }
      ]
    },
    {
      "cell_type": "code",
      "source": [
        "from sklearn.metrics import precision_score, recall_score, f1_score\n",
        "\n",
        "y_pred_classes = np.argmax(y_pred, axis=1)\n",
        "\n",
        "y_test_classes = np.argmax(y_test, axis=1)\n",
        "\n",
        "precision = precision_score(y_test_classes, y_pred_classes, average='weighted')\n",
        "recall = recall_score(y_test_classes, y_pred_classes, average='weighted')\n",
        "f1 = f1_score(y_test_classes, y_pred_classes, average='weighted')\n",
        "\n",
        "print(\"Precision:\", precision)\n",
        "print(\"Recall:\", recall)\n",
        "print(\"F1 Score:\", f1)"
      ],
      "metadata": {
        "colab": {
          "base_uri": "https://localhost:8080/"
        },
        "id": "ik0uG0RZFgka",
        "outputId": "c711796c-211c-4d07-c2e7-195ba54a8a48"
      },
      "execution_count": null,
      "outputs": [
        {
          "output_type": "stream",
          "name": "stdout",
          "text": [
            "Precision: 0.9823809523809525\n",
            "Recall: 0.9818181818181818\n",
            "F1 Score: 0.981884197687582\n"
          ]
        }
      ]
    }
  ]
}